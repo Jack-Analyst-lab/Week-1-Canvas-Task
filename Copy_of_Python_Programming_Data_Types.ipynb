{
  "nbformat": 4,
  "nbformat_minor": 0,
  "metadata": {
    "colab": {
      "name": "Copy of Python Programming: Data Types",
      "provenance": [],
      "collapsed_sections": [],
      "toc_visible": true
    },
    "kernelspec": {
      "name": "python3",
      "display_name": "Python 3"
    }
  },
  "cells": [
    {
      "cell_type": "markdown",
      "metadata": {
        "id": "g4atfIoY1BjY"
      },
      "source": [
        "# Python Programming: Data Types"
      ]
    },
    {
      "cell_type": "markdown",
      "metadata": {
        "id": "Fti179OmKM7c"
      },
      "source": [
        "## 1.1 Introduction"
      ]
    },
    {
      "cell_type": "markdown",
      "metadata": {
        "id": "_Kl5unZ9KPIY"
      },
      "source": [
        "There are many different data types in Python. These data types can also be referred to as types of objects. We can start with the most common object types: strings, integers and floats. Anytime you write words (text) in Python, you're using character strings (strings for short). The most common numbers, on the other hand, are integers (e.g. -1, 0, 100) and floats, which represent real numbers (e.g. 3.14, -42.0)."
      ]
    },
    {
      "cell_type": "markdown",
      "metadata": {
        "id": "F8zU7otKNuU3"
      },
      "source": [
        "The following are examples of values with different data types;"
      ]
    },
    {
      "cell_type": "code",
      "metadata": {
        "id": "aLU0ZCM4KKMZ",
        "colab": {
          "base_uri": "https://localhost:8080/"
        },
        "outputId": "348744fa-6dc7-4f37-de30-1190b87d1a99"
      },
      "source": [
        "# Example 1\n",
        "# Integer Data Type\n",
        "#\n",
        "55"
      ],
      "execution_count": 2,
      "outputs": [
        {
          "output_type": "execute_result",
          "data": {
            "text/plain": [
              "55"
            ]
          },
          "metadata": {
            "tags": []
          },
          "execution_count": 2
        }
      ]
    },
    {
      "cell_type": "code",
      "metadata": {
        "id": "dm_ofqvwPQuP",
        "colab": {
          "base_uri": "https://localhost:8080/"
        },
        "outputId": "0d6a4a5e-175f-46cf-c8c3-625dced3b1ec"
      },
      "source": [
        "# Example 2\n",
        "# Float Data Type\n",
        "#\n",
        "3.142"
      ],
      "execution_count": 3,
      "outputs": [
        {
          "output_type": "execute_result",
          "data": {
            "text/plain": [
              "3.142"
            ]
          },
          "metadata": {
            "tags": []
          },
          "execution_count": 3
        }
      ]
    },
    {
      "cell_type": "code",
      "metadata": {
        "id": "Vjla31TDQg4R",
        "colab": {
          "base_uri": "https://localhost:8080/",
          "height": 35
        },
        "outputId": "f40968eb-5179-49ac-cb6f-0b79d68f6782"
      },
      "source": [
        "# Example 3\n",
        "# String Data Type\n",
        "#\n",
        "\"Moringa Data Science\" "
      ],
      "execution_count": 4,
      "outputs": [
        {
          "output_type": "execute_result",
          "data": {
            "application/vnd.google.colaboratory.intrinsic+json": {
              "type": "string"
            },
            "text/plain": [
              "'Moringa Data Science'"
            ]
          },
          "metadata": {
            "tags": []
          },
          "execution_count": 4
        }
      ]
    },
    {
      "cell_type": "markdown",
      "metadata": {
        "id": "uqmC6vfr24_f"
      },
      "source": [
        "### <font color=\"green\">1.1 Challenges </font>\n"
      ]
    },
    {
      "cell_type": "code",
      "metadata": {
        "id": "IpyXzkyYRnJ1",
        "colab": {
          "base_uri": "https://localhost:8080/"
        },
        "outputId": "0bfed653-810b-423c-9e1e-ed45bf7ca834"
      },
      "source": [
        "# Challenge 1\n",
        "# Write a value with an Integer data type \n",
        "# \n",
        "45"
      ],
      "execution_count": 5,
      "outputs": [
        {
          "output_type": "execute_result",
          "data": {
            "text/plain": [
              "45"
            ]
          },
          "metadata": {
            "tags": []
          },
          "execution_count": 5
        }
      ]
    },
    {
      "cell_type": "code",
      "metadata": {
        "id": "fTkeiMm6Rrhc",
        "colab": {
          "base_uri": "https://localhost:8080/"
        },
        "outputId": "09b66a85-f344-4947-a658-f9277754d5fe"
      },
      "source": [
        "# Challenge 2 \n",
        "# Write any value with a Float Data Type \n",
        "# \n",
        "4.23"
      ],
      "execution_count": 6,
      "outputs": [
        {
          "output_type": "execute_result",
          "data": {
            "text/plain": [
              "4.23"
            ]
          },
          "metadata": {
            "tags": []
          },
          "execution_count": 6
        }
      ]
    },
    {
      "cell_type": "code",
      "metadata": {
        "id": "-yxfZtWqRuoA",
        "colab": {
          "base_uri": "https://localhost:8080/",
          "height": 35
        },
        "outputId": "b542ecfe-6a34-4a2e-a18e-898ec095ea7c"
      },
      "source": [
        "# Challenge 3\n",
        "# Write any value with a String Data Type \n",
        "# \n",
        "'My name is awesome'"
      ],
      "execution_count": 7,
      "outputs": [
        {
          "output_type": "execute_result",
          "data": {
            "application/vnd.google.colaboratory.intrinsic+json": {
              "type": "string"
            },
            "text/plain": [
              "'My name is awesome'"
            ]
          },
          "metadata": {
            "tags": []
          },
          "execution_count": 7
        }
      ]
    },
    {
      "cell_type": "markdown",
      "metadata": {
        "id": "UxdDFPQKz3NS"
      },
      "source": [
        "## 1.2 Finding Out Types"
      ]
    },
    {
      "cell_type": "markdown",
      "metadata": {
        "id": "sgBUpOEqRe8d"
      },
      "source": [
        "We can get Python to tell us the type of an expression by using the built-in type() function. We'll notice that Python refers to integers as int, floats as float, and character strings as str."
      ]
    },
    {
      "cell_type": "code",
      "metadata": {
        "id": "GQZq_V9NS09i",
        "colab": {
          "base_uri": "https://localhost:8080/"
        },
        "outputId": "220e1f7f-3746-484a-a2e0-c04b70b705d1"
      },
      "source": [
        "# Example 1\n",
        "# Finding out the type of 55\n",
        "#\n",
        "type(55)"
      ],
      "execution_count": 8,
      "outputs": [
        {
          "output_type": "execute_result",
          "data": {
            "text/plain": [
              "int"
            ]
          },
          "metadata": {
            "tags": []
          },
          "execution_count": 8
        }
      ]
    },
    {
      "cell_type": "code",
      "metadata": {
        "id": "mKoaAXlNS8pt",
        "colab": {
          "base_uri": "https://localhost:8080/"
        },
        "outputId": "24e9aff4-1aef-40e3-e2cb-f7678350888c"
      },
      "source": [
        "# Example 2\n",
        "# Finding out the type of 3.142\n",
        "#\n",
        "type(3.142)"
      ],
      "execution_count": 9,
      "outputs": [
        {
          "output_type": "execute_result",
          "data": {
            "text/plain": [
              "float"
            ]
          },
          "metadata": {
            "tags": []
          },
          "execution_count": 9
        }
      ]
    },
    {
      "cell_type": "code",
      "metadata": {
        "id": "55FxpuwtS8So",
        "colab": {
          "base_uri": "https://localhost:8080/"
        },
        "outputId": "a6047c6a-9f33-4a2e-eff0-055f7ea4839c"
      },
      "source": [
        "# Example 3\n",
        "# Finding out the type of \"Moringa Data Science\"\n",
        "#\n",
        "type(\"Moringa Data Science\")"
      ],
      "execution_count": 10,
      "outputs": [
        {
          "output_type": "execute_result",
          "data": {
            "text/plain": [
              "str"
            ]
          },
          "metadata": {
            "tags": []
          },
          "execution_count": 10
        }
      ]
    },
    {
      "cell_type": "markdown",
      "metadata": {
        "id": "gqLkQCti2_as"
      },
      "source": [
        "### <font color=\"green\">1.2 Challenges</font>"
      ]
    },
    {
      "cell_type": "code",
      "metadata": {
        "id": "9aeJPHk5RJW2",
        "colab": {
          "base_uri": "https://localhost:8080/"
        },
        "outputId": "d7c0d975-5469-4d83-b6f2-5c26ba2f4b80"
      },
      "source": [
        "# Challenge 4 \n",
        "# Now lets find out the type of our value in Challenge #1\n",
        "#\n",
        "type(45)"
      ],
      "execution_count": 11,
      "outputs": [
        {
          "output_type": "execute_result",
          "data": {
            "text/plain": [
              "int"
            ]
          },
          "metadata": {
            "tags": []
          },
          "execution_count": 11
        }
      ]
    },
    {
      "cell_type": "code",
      "metadata": {
        "id": "xpxRzyfHT_VC",
        "colab": {
          "base_uri": "https://localhost:8080/"
        },
        "outputId": "0178dfef-4502-4b26-c749-f5421409d88e"
      },
      "source": [
        "# Challenge 5\n",
        "# What about the type of our value in Challenge #2\n",
        "# \n",
        "type(4.23)"
      ],
      "execution_count": 12,
      "outputs": [
        {
          "output_type": "execute_result",
          "data": {
            "text/plain": [
              "float"
            ]
          },
          "metadata": {
            "tags": []
          },
          "execution_count": 12
        }
      ]
    },
    {
      "cell_type": "code",
      "metadata": {
        "id": "JSTdIHXdUErB",
        "colab": {
          "base_uri": "https://localhost:8080/"
        },
        "outputId": "c0e6c879-8387-4c29-b315-3bdc6cf9ed07"
      },
      "source": [
        "# Challenge 6\n",
        "# What about the type of our value in Challenge #3\n",
        "#\n",
        "type('My name is awesome')"
      ],
      "execution_count": 13,
      "outputs": [
        {
          "output_type": "execute_result",
          "data": {
            "text/plain": [
              "str"
            ]
          },
          "metadata": {
            "tags": []
          },
          "execution_count": 13
        }
      ]
    },
    {
      "cell_type": "code",
      "metadata": {
        "id": "3A6nP_-XpcTA",
        "colab": {
          "base_uri": "https://localhost:8080/"
        },
        "outputId": "1e2d5e11-fb69-4584-b303-9fc29b32a3b9"
      },
      "source": [
        "# Challenge 7 \n",
        "# What is the data type of the result of: 16 / 4?\n",
        "#\n",
        "type(16/4)"
      ],
      "execution_count": 1,
      "outputs": [
        {
          "output_type": "execute_result",
          "data": {
            "text/plain": [
              "float"
            ]
          },
          "metadata": {
            "tags": []
          },
          "execution_count": 1
        }
      ]
    },
    {
      "cell_type": "code",
      "metadata": {
        "id": "_MC1ALIKpnyA",
        "colab": {
          "base_uri": "https://localhost:8080/"
        },
        "outputId": "2f20b798-ec66-480e-abfb-8933cca9bc33"
      },
      "source": [
        "# Challenge 8 \n",
        "# What is the type of the result of: 6 // 2? (Note the double slash //.)\n",
        "#\n",
        "type(6//2)"
      ],
      "execution_count": 14,
      "outputs": [
        {
          "output_type": "execute_result",
          "data": {
            "text/plain": [
              "int"
            ]
          },
          "metadata": {
            "tags": []
          },
          "execution_count": 14
        }
      ]
    },
    {
      "cell_type": "code",
      "metadata": {
        "id": "dDF33m3swR-Z"
      },
      "source": [
        "# Challenge 9\n",
        "# What do you think is the output of type(a)? Run this cell and check\n",
        "# \n",
        "a = \"Learning Data Science is Easy\" \n",
        "a = 3 "
      ],
      "execution_count": 15,
      "outputs": []
    },
    {
      "cell_type": "code",
      "metadata": {
        "id": "2GaZ0Eggw7Iu",
        "colab": {
          "base_uri": "https://localhost:8080/"
        },
        "outputId": "be20d339-75a3-4802-8d72-7b06a8b102fb"
      },
      "source": [
        "# Challenge 10\n",
        "# What do you think is the output of this cell? \n",
        "# Think about it then run it.\n",
        "#\n",
        "type(3.2) == float "
      ],
      "execution_count": 16,
      "outputs": [
        {
          "output_type": "execute_result",
          "data": {
            "text/plain": [
              "True"
            ]
          },
          "metadata": {
            "tags": []
          },
          "execution_count": 16
        }
      ]
    },
    {
      "cell_type": "markdown",
      "metadata": {
        "id": "-BkSbASJUdKQ"
      },
      "source": [
        "## 1.3  Integers"
      ]
    },
    {
      "cell_type": "markdown",
      "metadata": {
        "id": "JyxHhUBWUrbg"
      },
      "source": [
        " Integers can be negative or positive numbers:"
      ]
    },
    {
      "cell_type": "code",
      "metadata": {
        "id": "BMEZZkF-Gv4s",
        "colab": {
          "base_uri": "https://localhost:8080/"
        },
        "outputId": "961801a8-707c-4f35-b567-351e59b55f0e"
      },
      "source": [
        "# Example 1\n",
        "# Again, we can verify whether this is the case by using the type() function\n",
        "#\n",
        "type(-300)"
      ],
      "execution_count": 17,
      "outputs": [
        {
          "output_type": "execute_result",
          "data": {
            "text/plain": [
              "int"
            ]
          },
          "metadata": {
            "tags": []
          },
          "execution_count": 17
        }
      ]
    },
    {
      "cell_type": "markdown",
      "metadata": {
        "id": "Z6xx7moLqa2B"
      },
      "source": [
        "### <font color = \"green\">1.3 Challenges</font>"
      ]
    },
    {
      "cell_type": "code",
      "metadata": {
        "id": "dcOMS1Ywn2MG",
        "colab": {
          "base_uri": "https://localhost:8080/"
        },
        "outputId": "a9f21d8f-31ce-4a4e-df0e-a820f7348a4e"
      },
      "source": [
        "# Challenge 1\n",
        "# What happens when we verify a positive number i.e 43\n",
        "#\n",
        "type(+300)"
      ],
      "execution_count": 18,
      "outputs": [
        {
          "output_type": "execute_result",
          "data": {
            "text/plain": [
              "int"
            ]
          },
          "metadata": {
            "tags": []
          },
          "execution_count": 18
        }
      ]
    },
    {
      "cell_type": "code",
      "metadata": {
        "id": "H0Ws1Ez1HqoT",
        "colab": {
          "base_uri": "https://localhost:8080/"
        },
        "outputId": "7a0ab7ed-6e99-4aa7-dd42-859f31498ea2"
      },
      "source": [
        "# Challenge 2\n",
        "# Let's verify zero below \n",
        "# \n",
        "type(0)"
      ],
      "execution_count": 19,
      "outputs": [
        {
          "output_type": "execute_result",
          "data": {
            "text/plain": [
              "int"
            ]
          },
          "metadata": {
            "tags": []
          },
          "execution_count": 19
        }
      ]
    },
    {
      "cell_type": "markdown",
      "metadata": {
        "id": "a_8-Y8pFUfZ4"
      },
      "source": [
        "## 1.4 Floats"
      ]
    },
    {
      "cell_type": "markdown",
      "metadata": {
        "id": "KK5QqqUFIorK"
      },
      "source": [
        "Floats represent real numbers; they also include \"numbers with decimals\". We can now test some examples with the type() function"
      ]
    },
    {
      "cell_type": "code",
      "metadata": {
        "id": "qLrhOz6eIpZ7",
        "colab": {
          "base_uri": "https://localhost:8080/"
        },
        "outputId": "04edbfe4-93c2-45d0-8d68-6b08d6732d97"
      },
      "source": [
        "# Example 1\n",
        "# Let's verify 1.0\n",
        "# \n",
        "type(1.0)"
      ],
      "execution_count": 20,
      "outputs": [
        {
          "output_type": "execute_result",
          "data": {
            "text/plain": [
              "float"
            ]
          },
          "metadata": {
            "tags": []
          },
          "execution_count": 20
        }
      ]
    },
    {
      "cell_type": "markdown",
      "metadata": {
        "id": "Uc1Dx2gDqlQb"
      },
      "source": [
        "###<font color=\"green\"> 1.4 Challenges</font>"
      ]
    },
    {
      "cell_type": "code",
      "metadata": {
        "id": "AkXuR5UXoa4u",
        "colab": {
          "base_uri": "https://localhost:8080/"
        },
        "outputId": "9b8a43df-cad1-4409-8084-99cec27f0676"
      },
      "source": [
        "# Challenge 1 \n",
        "# Let's now verify 0.7\n",
        "#\n",
        "type(0.7)"
      ],
      "execution_count": 21,
      "outputs": [
        {
          "output_type": "execute_result",
          "data": {
            "text/plain": [
              "float"
            ]
          },
          "metadata": {
            "tags": []
          },
          "execution_count": 21
        }
      ]
    },
    {
      "cell_type": "code",
      "metadata": {
        "id": "W-dT0-3WWx7z",
        "colab": {
          "base_uri": "https://localhost:8080/"
        },
        "outputId": "be71d057-e9cc-44b3-d621-e6a1d60e824f"
      },
      "source": [
        "# Challenge 2\n",
        "# Verifying the type of 0.53\n",
        "# \n",
        "type(0.53)"
      ],
      "execution_count": 22,
      "outputs": [
        {
          "output_type": "execute_result",
          "data": {
            "text/plain": [
              "float"
            ]
          },
          "metadata": {
            "tags": []
          },
          "execution_count": 22
        }
      ]
    },
    {
      "cell_type": "markdown",
      "metadata": {
        "id": "zH4fP7JMUqPG"
      },
      "source": [
        "## 1.5 Boolean"
      ]
    },
    {
      "cell_type": "markdown",
      "metadata": {
        "id": "Bfvyjf_YmT-w"
      },
      "source": [
        "Boolean is another important type in Python. An object of type Boolean can take on one of two values: True or False:\n",
        "\n"
      ]
    },
    {
      "cell_type": "code",
      "metadata": {
        "id": "pLiD-enCmSyO",
        "colab": {
          "base_uri": "https://localhost:8080/"
        },
        "outputId": "c96ec4f0-3e54-40d5-9bff-1c161f397f00"
      },
      "source": [
        "# Example 1\n",
        "# Let's run this cell and see what happens\n",
        "#\n",
        "True"
      ],
      "execution_count": 23,
      "outputs": [
        {
          "output_type": "execute_result",
          "data": {
            "text/plain": [
              "True"
            ]
          },
          "metadata": {
            "tags": []
          },
          "execution_count": 23
        }
      ]
    },
    {
      "cell_type": "code",
      "metadata": {
        "id": "irtYN0ZZmv5Z",
        "colab": {
          "base_uri": "https://localhost:8080/"
        },
        "outputId": "5f84acd5-aa44-4fd3-8bb6-34a31b170c07"
      },
      "source": [
        "# Example 2\n",
        "# Let's also run this cell and see what happens\n",
        "#\n",
        "False"
      ],
      "execution_count": 24,
      "outputs": [
        {
          "output_type": "execute_result",
          "data": {
            "text/plain": [
              "False"
            ]
          },
          "metadata": {
            "tags": []
          },
          "execution_count": 24
        }
      ]
    },
    {
      "cell_type": "markdown",
      "metadata": {
        "id": "u3G52jpj2veu"
      },
      "source": [
        "### <font color=\"green\">1.5 Challenges</font>"
      ]
    },
    {
      "cell_type": "code",
      "metadata": {
        "id": "graRe9NCmioG",
        "colab": {
          "base_uri": "https://localhost:8080/",
          "height": 35
        },
        "outputId": "cbdbd541-3a8c-4649-be2a-39a2a6f3d01c"
      },
      "source": [
        "# Challenge 1 \n",
        "# What happens when we run 'true' in this cell\n",
        "#\n",
        "'true'"
      ],
      "execution_count": 26,
      "outputs": [
        {
          "output_type": "execute_result",
          "data": {
            "application/vnd.google.colaboratory.intrinsic+json": {
              "type": "string"
            },
            "text/plain": [
              "'true'"
            ]
          },
          "metadata": {
            "tags": []
          },
          "execution_count": 26
        }
      ]
    },
    {
      "cell_type": "code",
      "metadata": {
        "id": "MuyXiaUPmz9U",
        "colab": {
          "base_uri": "https://localhost:8080/",
          "height": 35
        },
        "outputId": "f2d6ba9f-9507-48d7-bc29-df3fbc30b542"
      },
      "source": [
        "# Challenge 2\n",
        "# What about what happens when we run 'false' in this cell\n",
        "#\n",
        "'false'"
      ],
      "execution_count": 27,
      "outputs": [
        {
          "output_type": "execute_result",
          "data": {
            "application/vnd.google.colaboratory.intrinsic+json": {
              "type": "string"
            },
            "text/plain": [
              "'false'"
            ]
          },
          "metadata": {
            "tags": []
          },
          "execution_count": 27
        }
      ]
    },
    {
      "cell_type": "code",
      "metadata": {
        "id": "10qmsXWgm5Hk",
        "colab": {
          "base_uri": "https://localhost:8080/"
        },
        "outputId": "edeb19b2-364f-4529-d348-98fd760da47a"
      },
      "source": [
        "# Challenge 3\n",
        "# Let's also find out type of False in this cell\n",
        "#\n",
        "type(False)"
      ],
      "execution_count": 28,
      "outputs": [
        {
          "output_type": "execute_result",
          "data": {
            "text/plain": [
              "bool"
            ]
          },
          "metadata": {
            "tags": []
          },
          "execution_count": 28
        }
      ]
    },
    {
      "cell_type": "markdown",
      "metadata": {
        "id": "A5_RAp55UkF6"
      },
      "source": [
        "## 1.6 Conversion of Types"
      ]
    },
    {
      "cell_type": "markdown",
      "metadata": {
        "id": "Ajd9s536Ul66"
      },
      "source": [
        "We can change the type of the object in Python; this is called typecasting. For example, we can convert an integer into a float (e.g. 2 to 2.0)."
      ]
    },
    {
      "cell_type": "code",
      "metadata": {
        "id": "yJCPR5BEXp3G",
        "colab": {
          "base_uri": "https://localhost:8080/"
        },
        "outputId": "530af4a0-4b30-426f-b22a-0646b89178b0"
      },
      "source": [
        "# Example 1 \n",
        "# Let's first verify that this is an integer by running this cell. \n",
        "#\n",
        "type(2) "
      ],
      "execution_count": 29,
      "outputs": [
        {
          "output_type": "execute_result",
          "data": {
            "text/plain": [
              "int"
            ]
          },
          "metadata": {
            "tags": []
          },
          "execution_count": 29
        }
      ]
    },
    {
      "cell_type": "markdown",
      "metadata": {
        "id": "s547kw_RlMAo"
      },
      "source": [
        "### 1.6a. Converting integers to floats\n"
      ]
    },
    {
      "cell_type": "code",
      "metadata": {
        "id": "4mP_uTVYkoKn",
        "colab": {
          "base_uri": "https://localhost:8080/"
        },
        "outputId": "ee7a3cb6-d194-419d-ccfa-b3f3e7d12b19"
      },
      "source": [
        "# Example 1\n",
        "# Let's now convert integer 2 to a float and check its type\n",
        "#\n",
        "type(float(2)) "
      ],
      "execution_count": 30,
      "outputs": [
        {
          "output_type": "execute_result",
          "data": {
            "text/plain": [
              "float"
            ]
          },
          "metadata": {
            "tags": []
          },
          "execution_count": 30
        }
      ]
    },
    {
      "cell_type": "markdown",
      "metadata": {
        "id": "YWhO9m4mlAvg"
      },
      "source": [
        "When we convert an integer into a float, we don't really change the value (i.e., the significand) of the number. However, if we cast a float into an integer, we could potentially lose some information. For example, if we cast the float 1.1 to integer we will get 1 and lose the decimal information (i.e., 0.1):"
      ]
    },
    {
      "cell_type": "code",
      "metadata": {
        "id": "ghNEvJErk4Vu",
        "colab": {
          "base_uri": "https://localhost:8080/"
        },
        "outputId": "d943d23e-f43f-4015-84d5-7865b88b029c"
      },
      "source": [
        "# Example 2\n",
        "# Casting 1.1 to integer will result in loss of information\n",
        "#\n",
        "int(1.1) "
      ],
      "execution_count": 31,
      "outputs": [
        {
          "output_type": "execute_result",
          "data": {
            "text/plain": [
              "1"
            ]
          },
          "metadata": {
            "tags": []
          },
          "execution_count": 31
        }
      ]
    },
    {
      "cell_type": "markdown",
      "metadata": {
        "id": "lgNykfkVlPAq"
      },
      "source": [
        "### 1.6b. Converting from strings to integers or floats\n"
      ]
    },
    {
      "cell_type": "markdown",
      "metadata": {
        "id": "rkSTFCOelV-y"
      },
      "source": [
        "Sometimes, we can have a string that contains a number within it. If this is the case, we can cast that string that represents a number into an integer using int():\n",
        "\n"
      ]
    },
    {
      "cell_type": "code",
      "metadata": {
        "id": "qK1OrMJYlSwk",
        "colab": {
          "base_uri": "https://localhost:8080/"
        },
        "outputId": "fc4ba43d-db7a-4c51-a423-63a13147ef6d"
      },
      "source": [
        "# Example 1\n",
        "# Let's convert a string into an integer\n",
        "#\n",
        "int('1')"
      ],
      "execution_count": 32,
      "outputs": [
        {
          "output_type": "execute_result",
          "data": {
            "text/plain": [
              "1"
            ]
          },
          "metadata": {
            "tags": []
          },
          "execution_count": 32
        }
      ]
    },
    {
      "cell_type": "code",
      "metadata": {
        "id": "9ixyl-vAljSG",
        "colab": {
          "base_uri": "https://localhost:8080/",
          "height": 35
        },
        "outputId": "2b38e80c-0030-45bc-a89d-3fcbbdb58ccc"
      },
      "source": [
        "# Example 2\n",
        "# But if we try to do so with a string that is not a perfect match for a number, we will get an error. \n",
        "# \n",
        "str('1 or 2 people')"
      ],
      "execution_count": 35,
      "outputs": [
        {
          "output_type": "execute_result",
          "data": {
            "application/vnd.google.colaboratory.intrinsic+json": {
              "type": "string"
            },
            "text/plain": [
              "'1 or 2 people'"
            ]
          },
          "metadata": {
            "tags": []
          },
          "execution_count": 35
        }
      ]
    },
    {
      "cell_type": "code",
      "metadata": {
        "id": "1hR-LBq-lvCw",
        "colab": {
          "base_uri": "https://localhost:8080/"
        },
        "outputId": "729e3ed5-1f51-4522-f44e-df36823489c4"
      },
      "source": [
        "# Example 3\n",
        "# We can also convert strings containing floating point numbers into float objects:\n",
        "#\n",
        "float('1.2') "
      ],
      "execution_count": 34,
      "outputs": [
        {
          "output_type": "execute_result",
          "data": {
            "text/plain": [
              "1.2"
            ]
          },
          "metadata": {
            "tags": []
          },
          "execution_count": 34
        }
      ]
    },
    {
      "cell_type": "markdown",
      "metadata": {
        "id": "-HTYwkHal6e7"
      },
      "source": [
        "### 1.6c. Converting numbers to strings\n"
      ]
    },
    {
      "cell_type": "markdown",
      "metadata": {
        "id": "gLlTlzYml8Fu"
      },
      "source": [
        "If we can convert strings to numbers, it is only natural to assume that we can convert numbers to strings, right?\n",
        "\n"
      ]
    },
    {
      "cell_type": "code",
      "metadata": {
        "id": "XjEcrrz-mByz",
        "colab": {
          "base_uri": "https://localhost:8080/",
          "height": 35
        },
        "outputId": "dc43d4b9-1200-46fc-c14f-baaab5093235"
      },
      "source": [
        "# Example 1\n",
        "# Let's Convert an integer to a string\n",
        "#\n",
        "str(1)"
      ],
      "execution_count": 36,
      "outputs": [
        {
          "output_type": "execute_result",
          "data": {
            "application/vnd.google.colaboratory.intrinsic+json": {
              "type": "string"
            },
            "text/plain": [
              "'1'"
            ]
          },
          "metadata": {
            "tags": []
          },
          "execution_count": 36
        }
      ]
    },
    {
      "cell_type": "markdown",
      "metadata": {
        "id": "KyVOjrcMr4wI"
      },
      "source": [
        "#### <font color=\"green\">1.6c Challenges</font>"
      ]
    },
    {
      "cell_type": "code",
      "metadata": {
        "id": "Rk4YzQRGmH87",
        "colab": {
          "base_uri": "https://localhost:8080/",
          "height": 35
        },
        "outputId": "ff7ab988-bd0f-4722-dc79-9215311f384e"
      },
      "source": [
        "# Challenge 1\n",
        "# And there is no reason why we shouldn't be able to make floats into strings as well:\n",
        "# Converting a float 1.2 to a string\n",
        "#\n",
        "str(1.2)"
      ],
      "execution_count": 37,
      "outputs": [
        {
          "output_type": "execute_result",
          "data": {
            "application/vnd.google.colaboratory.intrinsic+json": {
              "type": "string"
            },
            "text/plain": [
              "'1.2'"
            ]
          },
          "metadata": {
            "tags": []
          },
          "execution_count": 37
        }
      ]
    },
    {
      "cell_type": "code",
      "metadata": {
        "id": "fnw2YsM8vswc",
        "colab": {
          "base_uri": "https://localhost:8080/",
          "height": 35
        },
        "outputId": "f3605390-3cf0-4044-d5cb-a09f4d8a1a79"
      },
      "source": [
        "# Challenge 2\n",
        "# How do you convert a digit 6/4 into a string?\n",
        "# \n",
        "str(6/4)"
      ],
      "execution_count": 38,
      "outputs": [
        {
          "output_type": "execute_result",
          "data": {
            "application/vnd.google.colaboratory.intrinsic+json": {
              "type": "string"
            },
            "text/plain": [
              "'1.5'"
            ]
          },
          "metadata": {
            "tags": []
          },
          "execution_count": 38
        }
      ]
    },
    {
      "cell_type": "markdown",
      "metadata": {
        "id": "eib75N_EnVqp"
      },
      "source": [
        "### 1.6d. Boolean Casting\n",
        "We can cast boolean objects to other data types. If we cast a boolean with a value of True to an integer or float we will get a one. If we cast a boolean with a value of False to an integer or float we will get a zero. Similarly, if we cast a 1 to a Boolean, you get a True. And if we cast a 0 to a Boolean we will get a False. Let's give it a try:\n",
        "\n"
      ]
    },
    {
      "cell_type": "code",
      "metadata": {
        "id": "ggrd56z2rd5u",
        "colab": {
          "base_uri": "https://localhost:8080/"
        },
        "outputId": "4657c216-af8a-491e-c5ef-4c205d99b40a"
      },
      "source": [
        "# Example 1 \n",
        "# Let's cast 1 to a Boolean \n",
        "bool(1)"
      ],
      "execution_count": 39,
      "outputs": [
        {
          "output_type": "execute_result",
          "data": {
            "text/plain": [
              "True"
            ]
          },
          "metadata": {
            "tags": []
          },
          "execution_count": 39
        }
      ]
    },
    {
      "cell_type": "markdown",
      "metadata": {
        "id": "1x6Hvs-jrru7"
      },
      "source": [
        "#### <font color=\"green\">1.6d Challenges</font>"
      ]
    },
    {
      "cell_type": "code",
      "metadata": {
        "id": "JjfxTMb1n_9z",
        "colab": {
          "base_uri": "https://localhost:8080/"
        },
        "outputId": "5806efb9-d2c8-4276-bcdf-ec4849b433d1"
      },
      "source": [
        "# Challenge 1\n",
        "# Let's convert the value of True to an integer\n",
        "# \n",
        "int(True)"
      ],
      "execution_count": 40,
      "outputs": [
        {
          "output_type": "execute_result",
          "data": {
            "text/plain": [
              "1"
            ]
          },
          "metadata": {
            "tags": []
          },
          "execution_count": 40
        }
      ]
    },
    {
      "cell_type": "code",
      "metadata": {
        "id": "1x5bcRVfoNHW",
        "colab": {
          "base_uri": "https://localhost:8080/"
        },
        "outputId": "80cf1c0d-9855-4502-ca47-19e571521051"
      },
      "source": [
        "# Challenge 2\n",
        "# What happens when we cast a 0 to a Boolean?\n",
        "# \n",
        "bool(0)"
      ],
      "execution_count": 41,
      "outputs": [
        {
          "output_type": "execute_result",
          "data": {
            "text/plain": [
              "False"
            ]
          },
          "metadata": {
            "tags": []
          },
          "execution_count": 41
        }
      ]
    },
    {
      "cell_type": "code",
      "metadata": {
        "id": "VrCxNoqXo03X",
        "colab": {
          "base_uri": "https://localhost:8080/"
        },
        "outputId": "aa1f83a7-9e7f-44e8-8b12-9ea4036c598c"
      },
      "source": [
        "# Challenge 3 \n",
        "# Let's cast a boolean with a value of True to an integer\n",
        "# \n",
        "int(True)"
      ],
      "execution_count": 42,
      "outputs": [
        {
          "output_type": "execute_result",
          "data": {
            "text/plain": [
              "1"
            ]
          },
          "metadata": {
            "tags": []
          },
          "execution_count": 42
        }
      ]
    },
    {
      "cell_type": "code",
      "metadata": {
        "id": "XlmmM7Vo44YG"
      },
      "source": [
        ""
      ],
      "execution_count": null,
      "outputs": []
    }
  ]
}